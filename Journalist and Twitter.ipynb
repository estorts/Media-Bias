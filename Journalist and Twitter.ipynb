{
 "cells": [
  {
   "cell_type": "code",
   "execution_count": 1,
   "metadata": {},
   "outputs": [],
   "source": [
    "import pandas as pd\n",
    "import numpy as np\n",
    "import boto3"
   ]
  },
  {
   "cell_type": "code",
   "execution_count": 2,
   "metadata": {},
   "outputs": [
    {
     "name": "stdout",
     "output_type": "stream",
     "text": [
      "Collecting PyPDF2\n",
      "  Downloading PyPDF2-1.26.0.tar.gz (77 kB)\n",
      "\u001b[K     |████████████████████████████████| 77 kB 645 kB/s eta 0:00:011\n",
      "\u001b[?25hBuilding wheels for collected packages: PyPDF2\n",
      "  Building wheel for PyPDF2 (setup.py) ... \u001b[?25ldone\n",
      "\u001b[?25h  Created wheel for PyPDF2: filename=PyPDF2-1.26.0-py3-none-any.whl size=61084 sha256=a04c691c2d0ae2347a95700bf9554db3642342765d8f231ca8ed695f459f3056\n",
      "  Stored in directory: /root/.cache/pip/wheels/80/1a/24/648467ade3a77ed20f35cfd2badd32134e96dd25ca811e64b3\n",
      "Successfully built PyPDF2\n",
      "Installing collected packages: PyPDF2\n",
      "Successfully installed PyPDF2-1.26.0\n"
     ]
    }
   ],
   "source": [
    "!pip install PyPDF2"
   ]
  },
  {
   "cell_type": "code",
   "execution_count": 3,
   "metadata": {},
   "outputs": [],
   "source": [
    "import PyPDF2 "
   ]
  },
  {
   "cell_type": "code",
   "execution_count": 4,
   "metadata": {},
   "outputs": [],
   "source": [
    "# set up comms with s3\n",
    "s3 = boto3.client('s3')\n",
    "# bucket name\n",
    "bucket = 'media-bais'"
   ]
  },
  {
   "cell_type": "code",
   "execution_count": 58,
   "metadata": {},
   "outputs": [
    {
     "name": "stdout",
     "output_type": "stream",
     "text": [
      "For file: CDIR-2018-10-29-PRESSGALLERIES-4.pdf, Number Skipped or Missed: 10\n",
      "For file: CDIR-2018-10-29-PRESSGALLERIES.pdf, Number Skipped or Missed: 84\n",
      "For file: CDIR-2018-10-29-STATISTICALINFORMATION-26.pdf, Number Skipped or Missed: 190\n"
     ]
    }
   ],
   "source": [
    "# pdf files with data\n",
    "l1 = ('CDIR-2018-10-29-PRESSGALLERIES-4.pdf', 10)\n",
    "l2 = ('CDIR-2018-10-29-PRESSGALLERIES.pdf', 14)\n",
    "l3 = ('CDIR-2018-10-29-STATISTICALINFORMATION-26.pdf', 36)\n",
    "\n",
    "# empty list for dataframes\n",
    "dfs = []\n",
    "# loop through pdfs to gather data\n",
    "for l in [l1, l2, l3]:\n",
    "    file_name = l[0]\n",
    "    last_page = l[1]\n",
    "    # copy to sagemaker instance\n",
    "    s3.download_file('media-bais', file_name, file_name)\n",
    "\n",
    "    # creating a pdf file object \n",
    "    pdfFileObj = open(file_name, 'rb') \n",
    "\n",
    "    # creating a pdf reader object \n",
    "    pdfReader = PyPDF2.PdfFileReader(pdfFileObj) \n",
    "\n",
    "    # count how many lines (journalist) skipped or missed due to lazy data cleaning\n",
    "    skipped = 0\n",
    "\n",
    "    # loop through pages to pull journalist data\n",
    "    for page in list(range(2, last_page)):\n",
    "        # creating a page object \n",
    "        pageObj = pdfReader.getPage(page) \n",
    "        # extracting text from page \n",
    "        raw_list = pageObj.extractText()\n",
    "        # convert raw text to list\n",
    "        raw_list = raw_list.split('\\n')\n",
    "\n",
    "        # creating empty list to convert to dataframe later\n",
    "        journalist = []\n",
    "        publisher = []\n",
    "\n",
    "        # loop through new list to seperate journalist from publisher\n",
    "        for i, raw in enumerate(raw_list):\n",
    "            if i == 0:\n",
    "                skipped += 1\n",
    "            else:\n",
    "                try:\n",
    "                    raw = raw.split(':')\n",
    "                    j = raw[0]\n",
    "                    p = raw[1]\n",
    "                    journalist.append(j)\n",
    "                    publisher.append(p)\n",
    "                except:\n",
    "                    try:\n",
    "                        raw = raw.split('  ')\n",
    "                        j = raw[0]\n",
    "                        p = raw[1]\n",
    "                        journalist.append(j)\n",
    "                        publisher.append(p)\n",
    "                    except:\n",
    "                        skipped += 1\n",
    "\n",
    "        dfs.append(pd.DataFrame({'Journalist': journalist,\n",
    "                                'Publisher': publisher}))\n",
    "\n",
    "    # closing the pdf file object \n",
    "    pdfFileObj.close()\n",
    "\n",
    "    print(\"For file: {}, Number Skipped or Missed: {}\".format(file_name, skipped))"
   ]
  },
  {
   "cell_type": "code",
   "execution_count": 59,
   "metadata": {},
   "outputs": [
    {
     "name": "stdout",
     "output_type": "stream",
     "text": [
      "(5556, 2)\n"
     ]
    },
    {
     "data": {
      "text/html": [
       "<div>\n",
       "<style scoped>\n",
       "    .dataframe tbody tr th:only-of-type {\n",
       "        vertical-align: middle;\n",
       "    }\n",
       "\n",
       "    .dataframe tbody tr th {\n",
       "        vertical-align: top;\n",
       "    }\n",
       "\n",
       "    .dataframe thead th {\n",
       "        text-align: right;\n",
       "    }\n",
       "</style>\n",
       "<table border=\"1\" class=\"dataframe\">\n",
       "  <thead>\n",
       "    <tr style=\"text-align: right;\">\n",
       "      <th></th>\n",
       "      <th>Journalist</th>\n",
       "      <th>Publisher</th>\n",
       "    </tr>\n",
       "  </thead>\n",
       "  <tbody>\n",
       "    <tr>\n",
       "      <th>0</th>\n",
       "      <td>Abrahams-Gray, Rosalie</td>\n",
       "      <td>Atlantic Monthly</td>\n",
       "    </tr>\n",
       "    <tr>\n",
       "      <th>1</th>\n",
       "      <td>Adragna, Anthony</td>\n",
       "      <td>Politico</td>\n",
       "    </tr>\n",
       "    <tr>\n",
       "      <th>2</th>\n",
       "      <td>Aftab, Mirza</td>\n",
       "      <td>BNA News</td>\n",
       "    </tr>\n",
       "    <tr>\n",
       "      <th>3</th>\n",
       "      <td>Akin, Stephanie</td>\n",
       "      <td>Roll Call</td>\n",
       "    </tr>\n",
       "    <tr>\n",
       "      <th>4</th>\n",
       "      <td>Albergo, Paul</td>\n",
       "      <td>BNA News</td>\n",
       "    </tr>\n",
       "  </tbody>\n",
       "</table>\n",
       "</div>"
      ],
      "text/plain": [
       "               Journalist           Publisher\n",
       "0  Abrahams-Gray, Rosalie   Atlantic Monthly \n",
       "1        Adragna, Anthony           Politico \n",
       "2            Aftab, Mirza           BNA News \n",
       "3         Akin, Stephanie          Roll Call \n",
       "4           Albergo, Paul           BNA News "
      ]
     },
     "execution_count": 59,
     "metadata": {},
     "output_type": "execute_result"
    }
   ],
   "source": [
    "# make new dataframe\n",
    "dfs = pd.concat(dfs)\n",
    "\n",
    "# how big is the dataset\n",
    "print(dfs.shape)\n",
    "dfs.head()"
   ]
  },
  {
   "cell_type": "code",
   "execution_count": 60,
   "metadata": {},
   "outputs": [
    {
     "name": "stdout",
     "output_type": "stream",
     "text": [
      "(5554, 2)\n"
     ]
    },
    {
     "data": {
      "text/html": [
       "<div>\n",
       "<style scoped>\n",
       "    .dataframe tbody tr th:only-of-type {\n",
       "        vertical-align: middle;\n",
       "    }\n",
       "\n",
       "    .dataframe tbody tr th {\n",
       "        vertical-align: top;\n",
       "    }\n",
       "\n",
       "    .dataframe thead th {\n",
       "        text-align: right;\n",
       "    }\n",
       "</style>\n",
       "<table border=\"1\" class=\"dataframe\">\n",
       "  <thead>\n",
       "    <tr style=\"text-align: right;\">\n",
       "      <th></th>\n",
       "      <th>Journalist</th>\n",
       "      <th>Publisher</th>\n",
       "    </tr>\n",
       "  </thead>\n",
       "  <tbody>\n",
       "    <tr>\n",
       "      <th>0</th>\n",
       "      <td>Abrahams-Gray, Rosalie</td>\n",
       "      <td>Atlantic Monthly</td>\n",
       "    </tr>\n",
       "    <tr>\n",
       "      <th>1</th>\n",
       "      <td>Adragna, Anthony</td>\n",
       "      <td>Politico</td>\n",
       "    </tr>\n",
       "    <tr>\n",
       "      <th>2</th>\n",
       "      <td>Aftab, Mirza</td>\n",
       "      <td>BNA News</td>\n",
       "    </tr>\n",
       "    <tr>\n",
       "      <th>3</th>\n",
       "      <td>Akin, Stephanie</td>\n",
       "      <td>Roll Call</td>\n",
       "    </tr>\n",
       "    <tr>\n",
       "      <th>4</th>\n",
       "      <td>Albergo, Paul</td>\n",
       "      <td>BNA News</td>\n",
       "    </tr>\n",
       "  </tbody>\n",
       "</table>\n",
       "</div>"
      ],
      "text/plain": [
       "               Journalist           Publisher\n",
       "0  Abrahams-Gray, Rosalie   Atlantic Monthly \n",
       "1        Adragna, Anthony           Politico \n",
       "2            Aftab, Mirza           BNA News \n",
       "3         Akin, Stephanie          Roll Call \n",
       "4           Albergo, Paul           BNA News "
      ]
     },
     "execution_count": 60,
     "metadata": {},
     "output_type": "execute_result"
    }
   ],
   "source": [
    "df = dfs.drop_duplicates()\n",
    "print(df.shape)\n",
    "df.head()"
   ]
  },
  {
   "cell_type": "code",
   "execution_count": null,
   "metadata": {},
   "outputs": [],
   "source": []
  }
 ],
 "metadata": {
  "instance_type": "ml.m5.large",
  "kernelspec": {
   "display_name": "Python 3 (Data Science)",
   "language": "python",
   "name": "python3__SAGEMAKER_INTERNAL__arn:aws:sagemaker:us-east-2:429704687514:image/datascience-1.0"
  },
  "language_info": {
   "codemirror_mode": {
    "name": "ipython",
    "version": 3
   },
   "file_extension": ".py",
   "mimetype": "text/x-python",
   "name": "python",
   "nbconvert_exporter": "python",
   "pygments_lexer": "ipython3",
   "version": "3.7.6"
  }
 },
 "nbformat": 4,
 "nbformat_minor": 4
}
