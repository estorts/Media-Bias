{
 "cells": [
  {
   "cell_type": "code",
   "execution_count": 1,
   "metadata": {},
   "outputs": [
    {
     "name": "stdout",
     "output_type": "stream",
     "text": [
      "Requirement already satisfied: requests-oauthlib in /opt/conda/lib/python3.7/site-packages (1.3.0)\n",
      "Requirement already satisfied: requests>=2.0.0 in /opt/conda/lib/python3.7/site-packages (from requests-oauthlib) (2.22.0)\n",
      "Requirement already satisfied: oauthlib>=3.0.0 in /opt/conda/lib/python3.7/site-packages (from requests-oauthlib) (3.1.0)\n",
      "Requirement already satisfied: chardet<3.1.0,>=3.0.2 in /opt/conda/lib/python3.7/site-packages (from requests>=2.0.0->requests-oauthlib) (3.0.4)\n",
      "Requirement already satisfied: certifi>=2017.4.17 in /opt/conda/lib/python3.7/site-packages (from requests>=2.0.0->requests-oauthlib) (2019.11.28)\n",
      "Requirement already satisfied: urllib3!=1.25.0,!=1.25.1,<1.26,>=1.21.1 in /opt/conda/lib/python3.7/site-packages (from requests>=2.0.0->requests-oauthlib) (1.25.8)\n",
      "Requirement already satisfied: idna<2.9,>=2.5 in /opt/conda/lib/python3.7/site-packages (from requests>=2.0.0->requests-oauthlib) (2.8)\n"
     ]
    }
   ],
   "source": [
    "!pip install requests-oauthlib"
   ]
  },
  {
   "cell_type": "code",
   "execution_count": 11,
   "metadata": {},
   "outputs": [],
   "source": [
    "from requests_oauthlib import OAuth1Session\n",
    "import os\n",
    "import json\n",
    "import pandas as pd"
   ]
  },
  {
   "cell_type": "code",
   "execution_count": 3,
   "metadata": {},
   "outputs": [],
   "source": []
  },
  {
   "cell_type": "code",
   "execution_count": 5,
   "metadata": {},
   "outputs": [],
   "source": [
    "request_token_url = \"https://api.twitter.com/oauth/request_token\"\n",
    "oauth = OAuth1Session(consumer_key, client_secret=consumer_secret)\n",
    "\n",
    "try:\n",
    "    fetch_response = oauth.fetch_request_token(request_token_url)\n",
    "except ValueError:\n",
    "    print(\"There may have been an issue with the consumer_key or consumer_secret you entered.\")"
   ]
  },
  {
   "cell_type": "code",
   "execution_count": 6,
   "metadata": {},
   "outputs": [
    {
     "name": "stdout",
     "output_type": "stream",
     "text": [
      "Got OAuth token: 6tIUDQAAAAABKcqLAAABdkAT63M\n"
     ]
    }
   ],
   "source": [
    "resource_owner_key = fetch_response.get(\"oauth_token\")\n",
    "resource_owner_secret = fetch_response.get(\"oauth_token_secret\")\n",
    "print(\"Got OAuth token: %s\" % resource_owner_key)"
   ]
  },
  {
   "cell_type": "code",
   "execution_count": 8,
   "metadata": {},
   "outputs": [
    {
     "name": "stdout",
     "output_type": "stream",
     "text": [
      "Please go here and authorize: https://api.twitter.com/oauth/authorize?oauth_token=6tIUDQAAAAABKcqLAAABdkAT63M\n"
     ]
    },
    {
     "name": "stdin",
     "output_type": "stream",
     "text": [
      "Paste the PIN here:  0297752\n"
     ]
    }
   ],
   "source": [
    "base_authorization_url = \"https://api.twitter.com/oauth/authorize\"\n",
    "authorization_url = oauth.authorization_url(base_authorization_url)\n",
    "print(\"Please go here and authorize: %s\" % authorization_url)\n",
    "verifier = input(\"Paste the PIN here: \")"
   ]
  },
  {
   "cell_type": "code",
   "execution_count": 9,
   "metadata": {},
   "outputs": [],
   "source": [
    "access_token_url = \"https://api.twitter.com/oauth/access_token\"\n",
    "oauth = OAuth1Session(\n",
    "    consumer_key,\n",
    "    client_secret=consumer_secret,\n",
    "    resource_owner_key=resource_owner_key,\n",
    "    resource_owner_secret=resource_owner_secret,\n",
    "    verifier=verifier,\n",
    ")\n",
    "oauth_tokens = oauth.fetch_access_token(access_token_url)\n",
    "\n",
    "\n",
    "access_token = oauth_tokens[\"oauth_token\"]\n",
    "access_token_secret = oauth_tokens[\"oauth_token_secret\"]"
   ]
  },
  {
   "cell_type": "code",
   "execution_count": 32,
   "metadata": {},
   "outputs": [
    {
     "data": {
      "text/html": [
       "<div>\n",
       "<style scoped>\n",
       "    .dataframe tbody tr th:only-of-type {\n",
       "        vertical-align: middle;\n",
       "    }\n",
       "\n",
       "    .dataframe tbody tr th {\n",
       "        vertical-align: top;\n",
       "    }\n",
       "\n",
       "    .dataframe thead th {\n",
       "        text-align: right;\n",
       "    }\n",
       "</style>\n",
       "<table border=\"1\" class=\"dataframe\">\n",
       "  <thead>\n",
       "    <tr style=\"text-align: right;\">\n",
       "      <th></th>\n",
       "      <th>Journalist</th>\n",
       "      <th>Publisher</th>\n",
       "    </tr>\n",
       "  </thead>\n",
       "  <tbody>\n",
       "    <tr>\n",
       "      <th>5549</th>\n",
       "      <td>Zampa, Peter</td>\n",
       "      <td>Gray Television</td>\n",
       "    </tr>\n",
       "    <tr>\n",
       "      <th>5550</th>\n",
       "      <td>Zang, Guohua</td>\n",
       "      <td>CTIŒTV (Taiwan)</td>\n",
       "    </tr>\n",
       "    <tr>\n",
       "      <th>5551</th>\n",
       "      <td>Zarinko, Joseph</td>\n",
       "      <td>CGTN America</td>\n",
       "    </tr>\n",
       "    <tr>\n",
       "      <th>5552</th>\n",
       "      <td>Zayas, Ramon</td>\n",
       "      <td>WRCŒTV/NBCŒ4</td>\n",
       "    </tr>\n",
       "    <tr>\n",
       "      <th>5553</th>\n",
       "      <td>Zechar, David</td>\n",
       "      <td>ABC News</td>\n",
       "    </tr>\n",
       "  </tbody>\n",
       "</table>\n",
       "</div>"
      ],
      "text/plain": [
       "           Journalist          Publisher\n",
       "5549     Zampa, Peter   Gray Television \n",
       "5550     Zang, Guohua   CTIŒTV (Taiwan) \n",
       "5551  Zarinko, Joseph      CGTN America \n",
       "5552     Zayas, Ramon      WRCŒTV/NBCŒ4 \n",
       "5553    Zechar, David          ABC News "
      ]
     },
     "execution_count": 32,
     "metadata": {},
     "output_type": "execute_result"
    }
   ],
   "source": [
    "df = pd.read_csv('journalist_list.csv')\n",
    "df.tail()"
   ]
  },
  {
   "cell_type": "code",
   "execution_count": 53,
   "metadata": {},
   "outputs": [
    {
     "name": "stdout",
     "output_type": "stream",
     "text": [
      "(5549, 2)\n",
      "(5549, 2)\n"
     ]
    }
   ],
   "source": [
    "full_name = df['Journalist'].map(lambda x: x.split(', '))\n",
    "\n",
    "for i, name in enumerate(full_name):\n",
    "    if len(name) < 2:\n",
    "        print(i, name)\n",
    "        \n",
    "print(df.shape)        \n",
    "df = df[(df['Journalist'] != 'Albright Nicole Gaudiano') &\n",
    "       (df['Journalist'] != 'Fernandez-Pereda,Christina') &\n",
    "        (df['Journalist'] != 'Roland Neil') &\n",
    "        (df['Journalist'] != 'Baca. Nathan') &\n",
    "        (df['Journalist'] != 'Kay Katharine')]\n",
    "print(df.shape)"
   ]
  },
  {
   "cell_type": "code",
   "execution_count": 58,
   "metadata": {},
   "outputs": [
    {
     "data": {
      "text/html": [
       "<div>\n",
       "<style scoped>\n",
       "    .dataframe tbody tr th:only-of-type {\n",
       "        vertical-align: middle;\n",
       "    }\n",
       "\n",
       "    .dataframe tbody tr th {\n",
       "        vertical-align: top;\n",
       "    }\n",
       "\n",
       "    .dataframe thead th {\n",
       "        text-align: right;\n",
       "    }\n",
       "</style>\n",
       "<table border=\"1\" class=\"dataframe\">\n",
       "  <thead>\n",
       "    <tr style=\"text-align: right;\">\n",
       "      <th></th>\n",
       "      <th>Journalist</th>\n",
       "      <th>Publisher</th>\n",
       "      <th>first name</th>\n",
       "      <th>last name</th>\n",
       "    </tr>\n",
       "  </thead>\n",
       "  <tbody>\n",
       "    <tr>\n",
       "      <th>0</th>\n",
       "      <td>Abrahams-Gray, Rosalie</td>\n",
       "      <td>Atlantic Monthly</td>\n",
       "      <td>rosalie</td>\n",
       "      <td>abrahams-gray</td>\n",
       "    </tr>\n",
       "    <tr>\n",
       "      <th>1</th>\n",
       "      <td>Adragna, Anthony</td>\n",
       "      <td>Politico</td>\n",
       "      <td>anthony</td>\n",
       "      <td>adragna</td>\n",
       "    </tr>\n",
       "    <tr>\n",
       "      <th>2</th>\n",
       "      <td>Aftab, Mirza</td>\n",
       "      <td>BNA News</td>\n",
       "      <td>mirza</td>\n",
       "      <td>aftab</td>\n",
       "    </tr>\n",
       "    <tr>\n",
       "      <th>3</th>\n",
       "      <td>Akin, Stephanie</td>\n",
       "      <td>Roll Call</td>\n",
       "      <td>stephanie</td>\n",
       "      <td>akin</td>\n",
       "    </tr>\n",
       "    <tr>\n",
       "      <th>4</th>\n",
       "      <td>Albergo, Paul</td>\n",
       "      <td>BNA News</td>\n",
       "      <td>paul</td>\n",
       "      <td>albergo</td>\n",
       "    </tr>\n",
       "  </tbody>\n",
       "</table>\n",
       "</div>"
      ],
      "text/plain": [
       "               Journalist           Publisher first name      last name\n",
       "0  Abrahams-Gray, Rosalie   Atlantic Monthly     rosalie  abrahams-gray\n",
       "1        Adragna, Anthony           Politico     anthony        adragna\n",
       "2            Aftab, Mirza           BNA News       mirza          aftab\n",
       "3         Akin, Stephanie          Roll Call   stephanie           akin\n",
       "4           Albergo, Paul           BNA News        paul        albergo"
      ]
     },
     "execution_count": 58,
     "metadata": {},
     "output_type": "execute_result"
    }
   ],
   "source": [
    "df['first name'] = df['Journalist'].map(lambda x: x.split(', ')[1].lower())\n",
    "df['last name'] = df['Journalist'].map(lambda x: x.split(', ')[0].lower())\n",
    "df.head()"
   ]
  },
  {
   "cell_type": "code",
   "execution_count": 59,
   "metadata": {},
   "outputs": [
    {
     "data": {
      "text/html": [
       "<div>\n",
       "<style scoped>\n",
       "    .dataframe tbody tr th:only-of-type {\n",
       "        vertical-align: middle;\n",
       "    }\n",
       "\n",
       "    .dataframe tbody tr th {\n",
       "        vertical-align: top;\n",
       "    }\n",
       "\n",
       "    .dataframe thead th {\n",
       "        text-align: right;\n",
       "    }\n",
       "</style>\n",
       "<table border=\"1\" class=\"dataframe\">\n",
       "  <thead>\n",
       "    <tr style=\"text-align: right;\">\n",
       "      <th></th>\n",
       "      <th>Journalist</th>\n",
       "      <th>Publisher</th>\n",
       "      <th>first name</th>\n",
       "      <th>last name</th>\n",
       "      <th>twitter_username_1</th>\n",
       "      <th>twitter_username_2</th>\n",
       "      <th>twitter_username_3</th>\n",
       "    </tr>\n",
       "  </thead>\n",
       "  <tbody>\n",
       "    <tr>\n",
       "      <th>0</th>\n",
       "      <td>Abrahams-Gray, Rosalie</td>\n",
       "      <td>Atlantic Monthly</td>\n",
       "      <td>rosalie</td>\n",
       "      <td>abrahams-gray</td>\n",
       "      <td>rosalieabrahams-gray</td>\n",
       "      <td>rabrahams-gray</td>\n",
       "      <td>rosaliea</td>\n",
       "    </tr>\n",
       "    <tr>\n",
       "      <th>1</th>\n",
       "      <td>Adragna, Anthony</td>\n",
       "      <td>Politico</td>\n",
       "      <td>anthony</td>\n",
       "      <td>adragna</td>\n",
       "      <td>anthonyadragna</td>\n",
       "      <td>aadragna</td>\n",
       "      <td>anthonya</td>\n",
       "    </tr>\n",
       "    <tr>\n",
       "      <th>2</th>\n",
       "      <td>Aftab, Mirza</td>\n",
       "      <td>BNA News</td>\n",
       "      <td>mirza</td>\n",
       "      <td>aftab</td>\n",
       "      <td>mirzaaftab</td>\n",
       "      <td>maftab</td>\n",
       "      <td>mirzaa</td>\n",
       "    </tr>\n",
       "    <tr>\n",
       "      <th>3</th>\n",
       "      <td>Akin, Stephanie</td>\n",
       "      <td>Roll Call</td>\n",
       "      <td>stephanie</td>\n",
       "      <td>akin</td>\n",
       "      <td>stephanieakin</td>\n",
       "      <td>sakin</td>\n",
       "      <td>stephaniea</td>\n",
       "    </tr>\n",
       "    <tr>\n",
       "      <th>4</th>\n",
       "      <td>Albergo, Paul</td>\n",
       "      <td>BNA News</td>\n",
       "      <td>paul</td>\n",
       "      <td>albergo</td>\n",
       "      <td>paulalbergo</td>\n",
       "      <td>palbergo</td>\n",
       "      <td>paula</td>\n",
       "    </tr>\n",
       "  </tbody>\n",
       "</table>\n",
       "</div>"
      ],
      "text/plain": [
       "               Journalist           Publisher first name      last name  \\\n",
       "0  Abrahams-Gray, Rosalie   Atlantic Monthly     rosalie  abrahams-gray   \n",
       "1        Adragna, Anthony           Politico     anthony        adragna   \n",
       "2            Aftab, Mirza           BNA News       mirza          aftab   \n",
       "3         Akin, Stephanie          Roll Call   stephanie           akin   \n",
       "4           Albergo, Paul           BNA News        paul        albergo   \n",
       "\n",
       "     twitter_username_1 twitter_username_2 twitter_username_3  \n",
       "0  rosalieabrahams-gray     rabrahams-gray           rosaliea  \n",
       "1        anthonyadragna           aadragna           anthonya  \n",
       "2            mirzaaftab             maftab             mirzaa  \n",
       "3         stephanieakin              sakin         stephaniea  \n",
       "4           paulalbergo           palbergo              paula  "
      ]
     },
     "execution_count": 59,
     "metadata": {},
     "output_type": "execute_result"
    }
   ],
   "source": [
    "df['twitter_username_1'] = df['first name'].map(str) + df['last name'].map(str)\n",
    "df['twitter_username_2'] = df['first name'].map(lambda x: x[0]) + df['last name'].map(str)\n",
    "df['twitter_username_3'] = df['first name'].map(str) + df['last name'].map(lambda x: x[0])\n",
    "df.head()"
   ]
  },
  {
   "cell_type": "code",
   "execution_count": null,
   "metadata": {},
   "outputs": [],
   "source": [
    "#AnthonyAdragna\n",
    "#stephanieakin\n",
    "#palbergo\n",
    "#PeterZampa"
   ]
  },
  {
   "cell_type": "code",
   "execution_count": 69,
   "metadata": {},
   "outputs": [],
   "source": [
    "fields = \"created_at,description\"\n",
    "params = {\"usernames\": \"AnthonyAdragna\", \"user.fields\": fields}"
   ]
  },
  {
   "cell_type": "code",
   "execution_count": 76,
   "metadata": {},
   "outputs": [
    {
     "name": "stdout",
     "output_type": "stream",
     "text": [
      "Response code: 200\n",
      "{\n",
      "    \"data\": [\n",
      "        {\n",
      "            \"description\": \"Congressional climate and energy issues for @POLITICO. Former @morning_energy scribe. D.C. native. Standard warnings apply. DMs open. Open to story ideas!\",\n",
      "            \"id\": \"460246990\",\n",
      "            \"name\": \"Anthony Adragna\",\n",
      "            \"username\": \"AnthonyAdragna\"\n",
      "        }\n",
      "    ]\n",
      "}\n"
     ]
    }
   ],
   "source": [
    "oauth = OAuth1Session(consumer_key,\n",
    "                    client_secret=consumer_secret,\n",
    "                    resource_owner_key=access_token,\n",
    "                    resource_owner_secret=access_token_secret,\n",
    "                    )\n",
    "\n",
    "response = oauth.get(\"https://api.twitter.com/2/users/by\", params=params)\n",
    "\n",
    "if response.status_code != 200:\n",
    "    raise Exception(\"Request returned an error: {} {}\".format(response.status_code, response.text))\n",
    "\n",
    "print(\"Response code: {}\".format(response.status_code))\n",
    "json_response = response.json()\n",
    "print(json.dumps(json_response, indent=4, sort_keys=True))\n",
    "\n",
    "response = json_response['data'][0]\n",
    "\n",
    "bio = response['description']\n",
    "id_ = response['id']"
   ]
  },
  {
   "cell_type": "code",
   "execution_count": 85,
   "metadata": {},
   "outputs": [],
   "source": [
    "def twitter_username(username):\n",
    "    params = {\"usernames\": username, \"user.fields\": \"description\"}\n",
    "    \n",
    "    oauth = OAuth1Session(consumer_key,\n",
    "                    client_secret=consumer_secret,\n",
    "                    resource_owner_key=access_token,\n",
    "                    resource_owner_secret=access_token_secret,\n",
    "                    )\n",
    "\n",
    "    response = oauth.get(\"https://api.twitter.com/2/users/by\", params=params)\n",
    "\n",
    "    if response.status_code == 200:\n",
    "\n",
    "        response = json_response['data'][0]\n",
    "\n",
    "        bio = response['description']\n",
    "        id_ = response['id']\n",
    "\n",
    "        return pd.DataFrame({'submitted username': [username],\n",
    "                            'bio': [bio],\n",
    "                            'twitter id': [id_]})"
   ]
  },
  {
   "cell_type": "code",
   "execution_count": null,
   "metadata": {},
   "outputs": [],
   "source": [
    "twitter_dfs = []\n",
    "for i in list(range(1, 4)):\n",
    "    twitter = []\n",
    "    for user in list(df['twitter_username_{}'.format(i)]):\n",
    "        twitter.append(twitter_username(name))\n",
    "\n",
    "    twitter = pd.concat(twitter)\n",
    "    df_twitter = pd.merge(df, twitter, how='inner', left_on='twitter_username_{}'.format(i), right_on='submitted username')\n",
    "    \n",
    "    twitter_dfs.append(df_twitter)\n",
    "    \n",
    "twitter_dfs = pd.concat(twitter_dfs)\n",
    "print(twitter_dfs.shape)\n",
    "twitter_dfs.head()"
   ]
  },
  {
   "cell_type": "raw",
   "metadata": {},
   "source": [
    "https://github.com/twitterdev/Twitter-API-v2-sample-code"
   ]
  },
  {
   "cell_type": "code",
   "execution_count": null,
   "metadata": {},
   "outputs": [],
   "source": []
  }
 ],
 "metadata": {
  "instance_type": "ml.t3.medium",
  "kernelspec": {
   "display_name": "Python 3 (Data Science)",
   "language": "python",
   "name": "python3__SAGEMAKER_INTERNAL__arn:aws:sagemaker:us-east-2:429704687514:image/datascience-1.0"
  },
  "language_info": {
   "codemirror_mode": {
    "name": "ipython",
    "version": 3
   },
   "file_extension": ".py",
   "mimetype": "text/x-python",
   "name": "python",
   "nbconvert_exporter": "python",
   "pygments_lexer": "ipython3",
   "version": "3.7.6"
  }
 },
 "nbformat": 4,
 "nbformat_minor": 4
}
