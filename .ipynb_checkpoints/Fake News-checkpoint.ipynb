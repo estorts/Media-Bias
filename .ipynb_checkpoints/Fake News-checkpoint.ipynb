{
 "cells": [
  {
   "cell_type": "code",
   "execution_count": 1,
   "metadata": {},
   "outputs": [],
   "source": [
    "import pandas as pd\n",
    "import numpy as np\n",
    "import boto3\n",
    "from sklearn.model_selection import train_test_split\n",
    "from sklearn.feature_extraction.text import CountVectorizer, TfidfVectorizer, HashingVectorizer\n",
    "from sklearn.linear_model import SGDClassifier\n",
    "from sklearn.ensemble import RandomForestClassifier\n",
    "from sklearn.metrics import accuracy_score, f1_score, recall_score, precision_score"
   ]
  },
  {
   "cell_type": "code",
   "execution_count": 2,
   "metadata": {},
   "outputs": [],
   "source": [
    "#Copy Data From S3\n",
    "s3 = boto3.client('s3')\n",
    "file = 'full_articles.csv'\n",
    "#s3.download_file('media-bais', file, file)"
   ]
  },
  {
   "cell_type": "code",
   "execution_count": 3,
   "metadata": {},
   "outputs": [
    {
     "data": {
      "text/html": [
       "<div>\n",
       "<style scoped>\n",
       "    .dataframe tbody tr th:only-of-type {\n",
       "        vertical-align: middle;\n",
       "    }\n",
       "\n",
       "    .dataframe tbody tr th {\n",
       "        vertical-align: top;\n",
       "    }\n",
       "\n",
       "    .dataframe thead th {\n",
       "        text-align: right;\n",
       "    }\n",
       "</style>\n",
       "<table border=\"1\" class=\"dataframe\">\n",
       "  <thead>\n",
       "    <tr style=\"text-align: right;\">\n",
       "      <th></th>\n",
       "      <th>text</th>\n",
       "      <th>url_match</th>\n",
       "      <th>agree</th>\n",
       "      <th>agree_ratio</th>\n",
       "      <th>agreeance_text</th>\n",
       "      <th>allsides_page</th>\n",
       "      <th>bias</th>\n",
       "      <th>disagree</th>\n",
       "      <th>name</th>\n",
       "      <th>total_votes</th>\n",
       "    </tr>\n",
       "  </thead>\n",
       "  <tbody>\n",
       "    <tr>\n",
       "      <th>0</th>\n",
       "      <td>男模的大鸟,避孕膜,杜达雄\\nHome\\nHome\\nBlogs\\nPopular Twee...</td>\n",
       "      <td>aj</td>\n",
       "      <td>263</td>\n",
       "      <td>2.481132</td>\n",
       "      <td>Strongly Agrees</td>\n",
       "      <td>https://www.allsides.com/news-source/aj-media-...</td>\n",
       "      <td>left</td>\n",
       "      <td>106</td>\n",
       "      <td>AJ+</td>\n",
       "      <td>369</td>\n",
       "    </tr>\n",
       "    <tr>\n",
       "      <th>1</th>\n",
       "      <td>Meet Elizabeth347, 26 (United States, Aixàs) |...</td>\n",
       "      <td>bet</td>\n",
       "      <td>131</td>\n",
       "      <td>0.803681</td>\n",
       "      <td>Somewhat Disagrees</td>\n",
       "      <td>https://www.allsides.com/news-source/bet-media...</td>\n",
       "      <td>left-center</td>\n",
       "      <td>163</td>\n",
       "      <td>BET</td>\n",
       "      <td>294</td>\n",
       "    </tr>\n",
       "    <tr>\n",
       "      <th>2</th>\n",
       "      <td>Trajectory Path Planning of Cable Driven Paral...</td>\n",
       "      <td>aj</td>\n",
       "      <td>263</td>\n",
       "      <td>2.481132</td>\n",
       "      <td>Strongly Agrees</td>\n",
       "      <td>https://www.allsides.com/news-source/aj-media-...</td>\n",
       "      <td>left</td>\n",
       "      <td>106</td>\n",
       "      <td>AJ+</td>\n",
       "      <td>369</td>\n",
       "    </tr>\n",
       "    <tr>\n",
       "      <th>3</th>\n",
       "      <td>Adverse drug reaction | Asian Journal of Pharm...</td>\n",
       "      <td>aj</td>\n",
       "      <td>263</td>\n",
       "      <td>2.481132</td>\n",
       "      <td>Strongly Agrees</td>\n",
       "      <td>https://www.allsides.com/news-source/aj-media-...</td>\n",
       "      <td>left</td>\n",
       "      <td>106</td>\n",
       "      <td>AJ+</td>\n",
       "      <td>369</td>\n",
       "    </tr>\n",
       "    <tr>\n",
       "      <th>4</th>\n",
       "      <td>Artificial Light at Night (ALAN) Research Lite...</td>\n",
       "      <td>mit</td>\n",
       "      <td>4</td>\n",
       "      <td>1.333333</td>\n",
       "      <td>Somewhat Agrees</td>\n",
       "      <td>https://www.allsides.com/news-source/mit-media...</td>\n",
       "      <td>left</td>\n",
       "      <td>3</td>\n",
       "      <td>Mitú</td>\n",
       "      <td>7</td>\n",
       "    </tr>\n",
       "  </tbody>\n",
       "</table>\n",
       "</div>"
      ],
      "text/plain": [
       "                                                text url_match  agree  \\\n",
       "0  男模的大鸟,避孕膜,杜达雄\\nHome\\nHome\\nBlogs\\nPopular Twee...        aj    263   \n",
       "1  Meet Elizabeth347, 26 (United States, Aixàs) |...       bet    131   \n",
       "2  Trajectory Path Planning of Cable Driven Paral...        aj    263   \n",
       "3  Adverse drug reaction | Asian Journal of Pharm...        aj    263   \n",
       "4  Artificial Light at Night (ALAN) Research Lite...       mit      4   \n",
       "\n",
       "   agree_ratio      agreeance_text  \\\n",
       "0     2.481132     Strongly Agrees   \n",
       "1     0.803681  Somewhat Disagrees   \n",
       "2     2.481132     Strongly Agrees   \n",
       "3     2.481132     Strongly Agrees   \n",
       "4     1.333333     Somewhat Agrees   \n",
       "\n",
       "                                       allsides_page         bias  disagree  \\\n",
       "0  https://www.allsides.com/news-source/aj-media-...         left       106   \n",
       "1  https://www.allsides.com/news-source/bet-media...  left-center       163   \n",
       "2  https://www.allsides.com/news-source/aj-media-...         left       106   \n",
       "3  https://www.allsides.com/news-source/aj-media-...         left       106   \n",
       "4  https://www.allsides.com/news-source/mit-media...         left         3   \n",
       "\n",
       "   name  total_votes  \n",
       "0   AJ+          369  \n",
       "1   BET          294  \n",
       "2   AJ+          369  \n",
       "3   AJ+          369  \n",
       "4  Mitú            7  "
      ]
     },
     "execution_count": 3,
     "metadata": {},
     "output_type": "execute_result"
    }
   ],
   "source": [
    "df = pd.read_csv(file)\n",
    "df.head()"
   ]
  },
  {
   "cell_type": "code",
   "execution_count": 4,
   "metadata": {},
   "outputs": [
    {
     "name": "stdout",
     "output_type": "stream",
     "text": [
      "(509387, 10)\n"
     ]
    },
    {
     "data": {
      "text/plain": [
       "array(['AJ+', 'BET', 'Mitú', 'The Atlantic', 'FAIR', 'Quartz',\n",
       "       'Bloomberg', 'The Hill', 'CNN (Web News)', 'Idaho Statesman',\n",
       "       'NPR Online News', 'The Advocate', 'Forbes', 'Salon', 'Slate',\n",
       "       'The Justice', 'CNET', 'KSL', 'The Dispatch', 'MarketWatch',\n",
       "       'Reason', 'ABC News (Online)', 'The Guardian',\n",
       "       'Scientific American', 'Boing Boing', 'The Appeal', 'Newsweek',\n",
       "       'Detroit News', 'The Daily Caller', 'The Daily Dot',\n",
       "       'Foreign Policy', 'Gizmodo', 'Politico', 'SFGate', 'Mashable',\n",
       "       'Fox News (Online)', 'New York Times (Online News)',\n",
       "       'The Economist', 'Reuters', 'Splinter', 'Jubilee Media',\n",
       "       'The Flip Side', 'Al Jazeera', 'Axios', 'Business Insider', 'CNBC',\n",
       "       'Eurek Alert', 'The Fulcrum', 'InfoWars', 'New Republic',\n",
       "       'Psychology Today', 'RollingStone.com', 'Teen Vogue',\n",
       "       'Daily Beast', 'The Epoch Times', 'Breitbart News',\n",
       "       'The Gateway Pundit', 'AZ Central', 'Des Moines Register',\n",
       "       'Miami Herald', 'Military Times', 'LGBTQ Nation',\n",
       "       'NBC News (Online)', 'IVN', 'Jezebel', 'CBN',\n",
       "       'Babylon Bee (Humor)', 'Care2', 'Black Enterprise',\n",
       "       'Chicago Tribune', 'The Intercept', 'Boston Herald', 'CBS News',\n",
       "       'Daily Mail', 'Houston Chronicle', 'HuffPost', 'NewsBusters',\n",
       "       'Newsy', 'PoliticusUSA', 'KATU', 'SF Weekly', 'GLAAD',\n",
       "       'Foreign Affairs', 'Indy Week', 'National Journal',\n",
       "       'The Juggernaut', 'Lifehacker', 'The Boston Globe', 'Bustle',\n",
       "       'The Commercial Appeal', 'Democracy Now', 'Esquire', 'Nieman Lab',\n",
       "       'Poynter', 'Fiscal Times', 'Current Affairs', 'MSNBC', 'Roll Call',\n",
       "       'Right Side News', 'TechCrunch', 'Daily Press', 'Michigan Daily',\n",
       "       'BuzzFeed News', 'Snopes', 'The Globe and Mail',\n",
       "       'Spokesman Review', 'Right Wing News', 'The Federalist',\n",
       "       'Project Veritas', 'ProPublica', 'Raw Story', 'AlterNet',\n",
       "       'Atlanta Black Star', 'Red State', 'Concord Monitor',\n",
       "       'Newsmax - News', 'City Journal', 'National Review', 'C-SPAN',\n",
       "       'CU Independent', 'RealClearPolitics', 'Making Sense', 'Grist',\n",
       "       'PinkNews', 'StoryCorps', 'PJ Media', 'PolitiFact', 'AllSides',\n",
       "       'Science Daily', 'BBC News', 'State Journal', 'HotAir',\n",
       "       'The Daily Signal', 'Jacobin', 'The Daily Show (humor)',\n",
       "       'Google News', 'Drudge Report', 'Bearing Drift', 'Blue Virginia',\n",
       "       'KQED', 'Patch.com', 'American Thinker', 'Nature.com',\n",
       "       'CalMatters', 'New York Daily News', 'Associated Press',\n",
       "       'JSTOR Daily', 'Centre View', 'Smerconish', 'Phys.org',\n",
       "       'Counter Currents', 'Columbia Journalism Review',\n",
       "       'Commentary Magazine', 'MIT News', 'San Jose Mercury News',\n",
       "       'McClatchyDC', 'Daily Kos', 'FactCheck.org', 'New York Magazine',\n",
       "       'Deseret News', 'Erraticus', 'New Hampshire Union Leader',\n",
       "       'The Daily Wire'], dtype=object)"
      ]
     },
     "execution_count": 4,
     "metadata": {},
     "output_type": "execute_result"
    }
   ],
   "source": [
    "print(df.shape)\n",
    "df['name'].unique()"
   ]
  },
  {
   "cell_type": "code",
   "execution_count": 17,
   "metadata": {},
   "outputs": [
    {
     "data": {
      "text/plain": [
       "left            234144\n",
       "left-center     148592\n",
       "center          102539\n",
       "right-center     17495\n",
       "right             6101\n",
       "allsides           516\n",
       "Name: bias, dtype: int64"
      ]
     },
     "execution_count": 17,
     "metadata": {},
     "output_type": "execute_result"
    }
   ],
   "source": [
    "#'The Daily Show (humor)'\n",
    "#'Babylon Bee (Humor)'\n",
    "#https://en.wikipedia.org/wiki/List_of_satirical_news_websites"
   ]
  },
  {
   "cell_type": "raw",
   "metadata": {},
   "source": [
    "The Babylon Bee\n",
    "Bbspot\n",
    "Borowitz Report\n",
    "ClickHole\n",
    "Cracked\n",
    "Christwire\n",
    "The Daily WTF\n",
    "The DailyER\n",
    "Duffel Blog\n",
    "Free Wood Post\n",
    "The Hard Times\n",
    "Huzlers\n",
    "Islamica News\n",
    "Landover Baptist Church\n",
    "National Report\n",
    "The Onion\n",
    "Reductress\n",
    "SatireWire\n",
    "ScrappleFace\n",
    "Topeka News\n",
    "Weekly World News"
   ]
  },
  {
   "cell_type": "code",
   "execution_count": 5,
   "metadata": {},
   "outputs": [],
   "source": [
    "def convert_to_num(target):\n",
    "    if target == 'The Daily Show (humor)':\n",
    "        return 1\n",
    "    elif target == 'Babylon Bee (Humor)':\n",
    "        return 1\n",
    "    else:\n",
    "        return 0"
   ]
  },
  {
   "cell_type": "code",
   "execution_count": 6,
   "metadata": {},
   "outputs": [],
   "source": [
    "df = df[df['bias'] != 'allsides']\n",
    "df['target'] = df['name'].apply(convert_to_num)"
   ]
  },
  {
   "cell_type": "code",
   "execution_count": 7,
   "metadata": {},
   "outputs": [
    {
     "name": "stdout",
     "output_type": "stream",
     "text": [
      "[0 1]\n",
      "[0 1]\n"
     ]
    }
   ],
   "source": [
    "train_data, test_data = train_test_split(df, test_size=0.25, random_state=42)\n",
    "print(train_data['target'].unique())\n",
    "print(test_data['target'].unique())"
   ]
  },
  {
   "cell_type": "code",
   "execution_count": 8,
   "metadata": {},
   "outputs": [],
   "source": [
    "#create count object\n",
    "count_vectorizer = CountVectorizer(stop_words='english')\n",
    "\n",
    "#Transform the training data using only the 'text' column values\n",
    "count_X_train = count_vectorizer.fit_transform(train_data['text'])\n",
    "\n",
    "#Transform the test data using only the 'text' column values\n",
    "count_X_test = count_vectorizer.transform(test_data['text'])"
   ]
  },
  {
   "cell_type": "code",
   "execution_count": 9,
   "metadata": {},
   "outputs": [],
   "source": [
    "y_train = train_data['target']\n",
    "y_test = test_data['target']"
   ]
  },
  {
   "cell_type": "code",
   "execution_count": 10,
   "metadata": {},
   "outputs": [],
   "source": [
    "svm_obj = SGDClassifier()\n",
    "svm = svm_obj.fit(count_X_train, y_train)"
   ]
  },
  {
   "cell_type": "code",
   "execution_count": 11,
   "metadata": {},
   "outputs": [
    {
     "name": "stdout",
     "output_type": "stream",
     "text": [
      "Testing Model.\n"
     ]
    }
   ],
   "source": [
    "print('Testing Model.')\n",
    "y_pred = svm.predict(count_X_test)"
   ]
  },
  {
   "cell_type": "code",
   "execution_count": 12,
   "metadata": {},
   "outputs": [
    {
     "name": "stdout",
     "output_type": "stream",
     "text": [
      "Model Results\n",
      "Accuracy: 0.9998192079737144\n",
      "Recall: 0.9998192079737144\n",
      "Precision: 0.9998877324569507\n",
      "F1-Score: 0.9998443942640383\n"
     ]
    }
   ],
   "source": [
    "acc = accuracy_score(y_test, y_pred)\n",
    "recall = recall_score(y_test, y_pred, average='weighted')\n",
    "perc = precision_score(y_test, y_pred, average='weighted')\n",
    "f1 = f1_score(y_test, y_pred, average='weighted')\n",
    "\n",
    "#model results\n",
    "print('Model Results')\n",
    "print('Accuracy: {}'.format(acc))\n",
    "print('Recall: {}'.format(recall))\n",
    "print('Precision: {}'.format(perc))\n",
    "print('F1-Score: {}'.format(f1))"
   ]
  },
  {
   "cell_type": "code",
   "execution_count": null,
   "metadata": {},
   "outputs": [],
   "source": []
  }
 ],
 "metadata": {
  "instance_type": "ml.g4dn.xlarge",
  "kernelspec": {
   "display_name": "Python 3 (SageMaker JumpStart Data Science 1.0)",
   "language": "python",
   "name": "python3__SAGEMAKER_INTERNAL__arn:aws:sagemaker:us-east-2:033062077428:image/sagemaker-jumpstart-data-science-1.0"
  },
  "language_info": {
   "codemirror_mode": {
    "name": "ipython",
    "version": 3
   },
   "file_extension": ".py",
   "mimetype": "text/x-python",
   "name": "python",
   "nbconvert_exporter": "python",
   "pygments_lexer": "ipython3",
   "version": "3.7.8"
  }
 },
 "nbformat": 4,
 "nbformat_minor": 4
}
